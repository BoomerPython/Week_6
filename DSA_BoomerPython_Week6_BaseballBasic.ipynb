{
  "nbformat": 4,
  "nbformat_minor": 0,
  "metadata": {
    "kernelspec": {
      "display_name": "Python 3",
      "language": "python",
      "name": "python3"
    },
    "language_info": {
      "codemirror_mode": {
        "name": "ipython",
        "version": 3
      },
      "file_extension": ".py",
      "mimetype": "text/x-python",
      "name": "python",
      "nbconvert_exporter": "python",
      "pygments_lexer": "ipython3",
      "version": "3.6.4"
    },
    "colab": {
      "name": "SportsTeamSimulation.ipynb",
      "provenance": [],
      "include_colab_link": true
    }
  },
  "cells": [
    {
      "cell_type": "markdown",
      "metadata": {
        "id": "view-in-github",
        "colab_type": "text"
      },
      "source": [
        "<a href=\"https://colab.research.google.com/github/BoomerPython/Week_6/blob/main/DSA_BoomerPython_Week6_BaseballBasic.ipynb\" target=\"_parent\"><img src=\"https://colab.research.google.com/assets/colab-badge.svg\" alt=\"Open In Colab\"/></a>"
      ]
    },
    {
      "cell_type": "code",
      "metadata": {
        "colab": {
          "base_uri": "https://localhost:8080/"
        },
        "id": "FbNnXMQcjwDB",
        "outputId": "8ff1f2a8-8122-4d9f-f924-560f8838788a"
      },
      "source": [
        "!pip install pyprind"
      ],
      "execution_count": null,
      "outputs": [
        {
          "output_type": "stream",
          "text": [
            "Collecting pyprind\n",
            "  Downloading PyPrind-2.11.3-py2.py3-none-any.whl (8.4 kB)\n",
            "Installing collected packages: pyprind\n",
            "Successfully installed pyprind-2.11.3\n"
          ],
          "name": "stdout"
        }
      ]
    },
    {
      "cell_type": "code",
      "metadata": {
        "collapsed": true,
        "id": "RTy_IzHTjr7i"
      },
      "source": [
        "# Sports Team Simulation\n",
        "# Baseball\n",
        "# Based on Miller (2015)\n",
        "\n",
        "import numpy as np\n",
        "import random\n",
        "from scipy.stats import nbinom\n",
        "from array import array\n",
        "\n",
        "# import pyprind   # PROVIDES TIMING AWARENESS\n"
      ],
      "execution_count": 1,
      "outputs": []
    },
    {
      "cell_type": "code",
      "metadata": {
        "collapsed": true,
        "id": "i1JCQ0HXjr7l"
      },
      "source": [
        "def simulator(home_mean, away_mean, niterations):\n",
        "    # estimates probability of home team win\n",
        "    seed(1234)  # set to obtain reproducible results\n",
        "    home_game_score = [0] * niterations\n",
        "    away_game_score = [0] * niterations\n",
        "    home_win = [0] * niterations\n",
        "    i = 0\n",
        "    while (i < niterations):\n",
        "        home_game_score[i] = \\\n",
        "            nbinom.rvs(n = 4.0, p = 4.0/(4.0 + home_mean), size = 1)[0] \n",
        "        away_game_score[i] = \\\n",
        "            nbinom.rvs(n = 4.0, p = 4.0/(4.0 + away_mean), size = 1)[0]         \n",
        "        if (home_game_score[i] > away_game_score[i]):\n",
        "            home_win[i] = 1\n",
        "        if ((away_game_score[i] > home_game_score[i]) or \\\n",
        "            (away_game_score[i] < home_game_score[i])):\n",
        "            i = i + 1 \n",
        "    n_home_win = sum(home_win)\n",
        "    return n_home_win / niterations      "
      ],
      "execution_count": 2,
      "outputs": []
    },
    {
      "cell_type": "code",
      "metadata": {
        "colab": {
          "base_uri": "https://localhost:8080/"
        },
        "id": "1HMUHL96jr7n",
        "outputId": "8a7b4302-2e24-4791-858e-b8ecdfb92e70"
      },
      "source": [
        "# estimates probability of home team win\n",
        "random.seed(1234)  # set to obtain reproducible results\n",
        "\n",
        "niterations = 100000  # use smaller number for testing\n",
        "\n",
        "home_game_score = [0] * niterations\n",
        "away_game_score = [0] * niterations\n",
        "home_mean = 5.97\n",
        "away_mean = 4.97\n",
        "i = 0\n",
        "while (i < niterations):\n",
        "    home_game_score[i] = \\\n",
        "        nbinom.rvs(n = 4.0, p = 4.0/(4.0 + home_mean), size = 1)[0] \n",
        "    away_game_score[i] = \\\n",
        "        nbinom.rvs(n = 4.0, p = 4.0/(4.0 + away_mean), size = 1)[0]         \n",
        "    i = i + 1 \n",
        "\n",
        "np.mean(home_game_score)\n",
        "    \n"
      ],
      "execution_count": 3,
      "outputs": [
        {
          "output_type": "execute_result",
          "data": {
            "text/plain": [
              "5.9857"
            ]
          },
          "metadata": {
            "tags": []
          },
          "execution_count": 3
        }
      ]
    },
    {
      "cell_type": "code",
      "metadata": {
        "colab": {
          "base_uri": "https://localhost:8080/"
        },
        "id": "53QkaTL9jr7o",
        "outputId": "067193e9-4f4e-4279-a0da-80a1d2e97097"
      },
      "source": [
        "np.mean(away_game_score)\n"
      ],
      "execution_count": 4,
      "outputs": [
        {
          "output_type": "execute_result",
          "data": {
            "text/plain": [
              "4.9699"
            ]
          },
          "metadata": {
            "tags": []
          },
          "execution_count": 4
        }
      ]
    },
    {
      "cell_type": "code",
      "metadata": {
        "colab": {
          "base_uri": "https://localhost:8080/",
          "height": 1000
        },
        "id": "vgYNptuujr7o",
        "outputId": "8e22e065-1021-499f-d078-38ef6d750b39"
      },
      "source": [
        "#  BUILD PLOTS FOR Negative Binomial MODEL\n",
        "import seaborn as sns\n",
        "\n",
        "import matplotlib.pyplot as plt\n",
        "\n",
        "mas = 4 / (4+4.97)\n",
        "mad = 4 / (4 + 3.45)\n",
        "yhs = 4 / (4 + 5.97)\n",
        "yhd = 4 / (4 + 4.84)\n",
        "\n",
        "MetAwayScore = np.random.negative_binomial(4, mas, 10000)\n",
        "MetAwayDefend = np.random.negative_binomial(4, mad, 10000)\n",
        "YankHomeScore = np.random.negative_binomial(4, yhs, 10000)\n",
        "YankHomeDefend = np.random.negative_binomial(4, yhd, 10000)\n",
        "\n",
        "plt.hist(MetAwayScore, bins='auto', rwidth = .5)\n",
        "plt.title(\"Runs Scored - Mets\")\n",
        "plt.show()\n",
        "\n",
        "plt.hist(MetAwayDefend, bins='auto', rwidth = .5) \n",
        "plt.title(\"Runs Allowed - Mets\")\n",
        "plt.show()\n",
        "\n",
        "plt.hist(YankHomeScore, bins='auto', rwidth = .5) \n",
        "plt.title(\"Runs Scored - Yanks\")\n",
        "plt.show()\n",
        "\n",
        "plt.hist(YankHomeDefend, bins='auto', rwidth = .5)\n",
        "plt.title(\"Runs Allowed - Yanks\")\n",
        "plt.show()"
      ],
      "execution_count": 5,
      "outputs": [
        {
          "output_type": "display_data",
          "data": {
            "image/png": "[encoded data removed]",
            "text/plain": [
              "<Figure size 432x288 with 1 Axes>"
            ]
          },
          "metadata": {
            "tags": [],
            "needs_background": "light"
          }
        },
        {
          "output_type": "display_data",
          "data": {
            "image/png": "[encoded data removed]",
            "text/plain": [
              "<Figure size 432x288 with 1 Axes>"
            ]
          },
          "metadata": {
            "tags": [],
            "needs_background": "light"
          }
        },
        {
          "output_type": "display_data",
          "data": {
            "image/png": "[encoded data removed]",
            "text/plain": [
              "<Figure size 432x288 with 1 Axes>"
            ]
          },
          "metadata": {
            "tags": [],
            "needs_background": "light"
          }
        },
        {
          "output_type": "display_data",
          "data": {
            "image/png": "[encoded data removed]",
            "text/plain": [
              "<Figure size 432x288 with 1 Axes>"
            ]
          },
          "metadata": {
            "tags": [],
            "needs_background": "light"
          }
        }
      ]
    },
    {
      "cell_type": "code",
      "metadata": {
        "colab": {
          "base_uri": "https://localhost:8080/",
          "height": 1000
        },
        "id": "1eXeY_iYjr7q",
        "outputId": "31527864-e6f9-449e-99f3-00e344319c9c"
      },
      "source": [
        "#  BUILD PLOTS FOR Poisson MODEL\n",
        "\n",
        "MetAwayScore = np.random.poisson(4.97, 1000000)\n",
        "MetAwayDefend = np.random.poisson(3.45, 100000)\n",
        "YankHomeScore = np.random.poisson(5.97, 10000)\n",
        "YankHomeDefend = np.random.poisson(4.84, 10000)\n",
        "\n",
        "plt.hist(MetAwayScore, bins='auto', rwidth = .5) \n",
        "plt.title(\"Runs Scored - Mets\")\n",
        "plt.show()\n",
        "\n",
        "plt.hist(MetAwayDefend, bins='auto', rwidth = .5)  \n",
        "plt.title(\"Runs Allowed - Mets\")\n",
        "plt.show()\n",
        "\n",
        "plt.hist(YankHomeScore, bins='auto', rwidth = .5)  \n",
        "plt.title(\"Runs Scored - Yanks\")\n",
        "plt.show()\n",
        "\n",
        "plt.hist(YankHomeDefend, bins='auto', rwidth = .5) \n",
        "plt.title(\"Runs Allowed - Yanks\")\n",
        "plt.show()"
      ],
      "execution_count": 6,
      "outputs": [
        {
          "output_type": "display_data",
          "data": {
            "image/png": "[encoded data removed]",
            "text/plain": [
              "<Figure size 432x288 with 1 Axes>"
            ]
          },
          "metadata": {
            "tags": [],
            "needs_background": "light"
          }
        },
        {
          "output_type": "display_data",
          "data": {
            "image/png": "[encoded data removed]",
            "text/plain": [
              "<Figure size 432x288 with 1 Axes>"
            ]
          },
          "metadata": {
            "tags": [],
            "needs_background": "light"
          }
        },
        {
          "output_type": "display_data",
          "data": {
            "image/png": "[encoded data removed]",
            "text/plain": [
              "<Figure size 432x288 with 1 Axes>"
            ]
          },
          "metadata": {
            "tags": [],
            "needs_background": "light"
          }
        },
        {
          "output_type": "display_data",
          "data": {
            "image/png": "[encoded data removed]",
            "text/plain": [
              "<Figure size 432x288 with 1 Axes>"
            ]
          },
          "metadata": {
            "tags": [],
            "needs_background": "light"
          }
        }
      ]
    },
    {
      "cell_type": "code",
      "metadata": {
        "collapsed": true,
        "id": "cr1RsB0ujr7q"
      },
      "source": [
        "# Suggestion for the student: Develop simulators for football or basketball.\n",
        "# Use matplotlib to create a probability heat-map for the probmat results.\n",
        "\n"
      ],
      "execution_count": null,
      "outputs": []
    }
  ]
}